{
 "cells": [
  {
   "cell_type": "markdown",
   "id": "e788a75f",
   "metadata": {},
   "source": [
    "# python basics"
   ]
  },
  {
   "cell_type": "markdown",
   "id": "257c31e2",
   "metadata": {},
   "source": [
    "- Variables\n",
    "- DataTypes"
   ]
  },
  {
   "cell_type": "markdown",
   "id": "227de4a2",
   "metadata": {},
   "source": [
    "print() -> It is used to display output."
   ]
  },
  {
   "cell_type": "code",
   "execution_count": 1,
   "id": "8fc64eeb",
   "metadata": {},
   "outputs": [
    {
     "name": "stdout",
     "output_type": "stream",
     "text": [
      "welcome to python course\n"
     ]
    }
   ],
   "source": [
    "print(\"welcome to python course\")"
   ]
  },
  {
   "cell_type": "code",
   "execution_count": 4,
   "id": "881de514",
   "metadata": {},
   "outputs": [
    {
     "name": "stdout",
     "output_type": "stream",
     "text": [
      "welcome to python course\n"
     ]
    }
   ],
   "source": [
    "x = \"welcome to python course\"\n",
    "print(x)"
   ]
  },
  {
   "cell_type": "markdown",
   "id": "9829a47d",
   "metadata": {},
   "source": [
    "# Variables"
   ]
  },
  {
   "cell_type": "markdown",
   "id": "7ebfcbad",
   "metadata": {},
   "source": [
    "- Alternative names for memory location , we call it as variables."
   ]
  },
  {
   "cell_type": "markdown",
   "id": "eec08447",
   "metadata": {},
   "source": [
    "<h3>Rules</h3>"
   ]
  },
  {
   "cell_type": "code",
   "execution_count": 3,
   "id": "813ec77d",
   "metadata": {},
   "outputs": [
    {
     "name": "stdout",
     "output_type": "stream",
     "text": [
      "dilip\n",
      "farooq\n",
      "kiran\n"
     ]
    }
   ],
   "source": [
    "#1. Variable name should start with either letter or _.\n",
    "\n",
    "name = \"dilip\" #collection of characters enclosed double quotes or single quotes-> string\n",
    "print(name)\n",
    "\n",
    "Name = \"farooq\"\n",
    "print(Name)\n",
    "\n",
    "_name = \"kiran\"\n",
    "print(_name)"
   ]
  },
  {
   "cell_type": "code",
   "execution_count": 4,
   "id": "eba32d22",
   "metadata": {},
   "outputs": [
    {
     "ename": "SyntaxError",
     "evalue": "invalid decimal literal (989913655.py, line 3)",
     "output_type": "error",
     "traceback": [
      "\u001b[1;36m  Input \u001b[1;32mIn [4]\u001b[1;36m\u001b[0m\n\u001b[1;33m    2name = \"girish\"\u001b[0m\n\u001b[1;37m    ^\u001b[0m\n\u001b[1;31mSyntaxError\u001b[0m\u001b[1;31m:\u001b[0m invalid decimal literal\n"
     ]
    }
   ],
   "source": [
    "#2. Variable name should not start with number.\n",
    "\n",
    "2name = \"girish\"\n",
    "print(2name)"
   ]
  },
  {
   "cell_type": "code",
   "execution_count": 10,
   "id": "10ca2c7b",
   "metadata": {},
   "outputs": [
    {
     "name": "stdout",
     "output_type": "stream",
     "text": [
      "sai kumar\n"
     ]
    }
   ],
   "source": [
    "#3. Variable name contains only letters, digits and _.\n",
    "\n",
    "full_name = \"sai kumar\"\n",
    "print(full_name)"
   ]
  },
  {
   "cell_type": "code",
   "execution_count": 12,
   "id": "ee9c8209",
   "metadata": {},
   "outputs": [
    {
     "name": "stdout",
     "output_type": "stream",
     "text": [
      "34\n"
     ]
    }
   ],
   "source": [
    "#4. Variable names case-sensitive\n",
    "\n",
    "age = 34 #int\n",
    "print(age)"
   ]
  },
  {
   "cell_type": "code",
   "execution_count": 14,
   "id": "5ffee85a",
   "metadata": {},
   "outputs": [
    {
     "name": "stdout",
     "output_type": "stream",
     "text": [
      "11\n"
     ]
    }
   ],
   "source": [
    "#5. Variable name should not be a keyword\n",
    "\n",
    "def1 = 11\n",
    "print(def1)"
   ]
  },
  {
   "cell_type": "markdown",
   "id": "64800c3c",
   "metadata": {},
   "source": [
    "# DataTypes"
   ]
  },
  {
   "cell_type": "markdown",
   "id": "a84f50db",
   "metadata": {},
   "source": [
    "1. Numeric DT(integer,float,complex)\n",
    "2. String DT\n",
    "3. Boolean DT(True,False)\n",
    "4. Sequence DT -> list,tuple,set,dictionary\n",
    "5. None DT"
   ]
  },
  {
   "cell_type": "markdown",
   "id": "3d512a31",
   "metadata": {},
   "source": [
    "<h3>1. Numeric DT</h3>"
   ]
  },
  {
   "cell_type": "code",
   "execution_count": 35,
   "id": "3849a39b",
   "metadata": {},
   "outputs": [
    {
     "name": "stdout",
     "output_type": "stream",
     "text": [
      "1\n"
     ]
    }
   ],
   "source": [
    "#int -> whole number(Ex:23,12,56575675,2312,909)\n",
    "x = 1\n",
    "print(x)"
   ]
  },
  {
   "cell_type": "markdown",
   "id": "ee49af56",
   "metadata": {},
   "source": [
    "<h3>type()</h3>\n",
    "    - used to give what kind of data we stored in the varaible."
   ]
  },
  {
   "cell_type": "code",
   "execution_count": 36,
   "id": "97d28f96",
   "metadata": {},
   "outputs": [
    {
     "name": "stdout",
     "output_type": "stream",
     "text": [
      "<class 'int'>\n"
     ]
    }
   ],
   "source": [
    "print(type(x))"
   ]
  },
  {
   "cell_type": "code",
   "execution_count": 24,
   "id": "ec7dcba7",
   "metadata": {},
   "outputs": [
    {
     "name": "stdout",
     "output_type": "stream",
     "text": [
      "3745.64735\n",
      "<class 'float'>\n"
     ]
    }
   ],
   "source": [
    "#float -> decimal point\n",
    "\n",
    "a = 3745.64735\n",
    "print(a)\n",
    "print(type(a))"
   ]
  },
  {
   "cell_type": "code",
   "execution_count": 32,
   "id": "e028344c",
   "metadata": {},
   "outputs": [
    {
     "name": "stdout",
     "output_type": "stream",
     "text": [
      "(1+0j)\n",
      "<class 'complex'>\n"
     ]
    }
   ],
   "source": [
    "#complex -> a+bj,a-bj\n",
    "\n",
    "z = 1-0j\n",
    "print(z)\n",
    "print(type(z))"
   ]
  },
  {
   "cell_type": "markdown",
   "id": "1e660fb5",
   "metadata": {},
   "source": [
    "<h3>2.String DT</h3>"
   ]
  },
  {
   "cell_type": "markdown",
   "id": "6711701b",
   "metadata": {},
   "source": [
    "- collection of characters enclosed double quotes or single quotes-> string\n",
    "- characters means letters,digits,symbols."
   ]
  },
  {
   "cell_type": "code",
   "execution_count": 38,
   "id": "2b897792",
   "metadata": {},
   "outputs": [
    {
     "name": "stdout",
     "output_type": "stream",
     "text": [
      "welcome 2 python programming\n",
      "<class 'str'>\n"
     ]
    }
   ],
   "source": [
    "course = \"welcome 2 python programming\" #string\n",
    "print(course)\n",
    "print(type(course))"
   ]
  },
  {
   "cell_type": "markdown",
   "id": "59679af3",
   "metadata": {},
   "source": [
    "<h3>Typecasting</h3"
   ]
  },
  {
   "cell_type": "markdown",
   "id": "63287589",
   "metadata": {},
   "source": [
    "- converting from one DT to another DT.\n",
    "    1. int()\n",
    "    2. float()\n",
    "    3. str()\n",
    "    4. bool()\n",
    "    5. list()\n",
    "    6. tuple()\n",
    "    7. set()"
   ]
  },
  {
   "cell_type": "code",
   "execution_count": 42,
   "id": "8dcd6e20",
   "metadata": {},
   "outputs": [
    {
     "name": "stdout",
     "output_type": "stream",
     "text": [
      "34\n",
      "34.0\n",
      "<class 'float'>\n"
     ]
    }
   ],
   "source": [
    "x = 34 #int\n",
    "print(x)\n",
    "\n",
    "#convert \"int\" DT  into \"float\" DT ->float()\n",
    "y = float(x)\n",
    "print(y)\n",
    "print(type(y))"
   ]
  },
  {
   "cell_type": "code",
   "execution_count": 44,
   "id": "4f370510",
   "metadata": {},
   "outputs": [
    {
     "name": "stdout",
     "output_type": "stream",
     "text": [
      "100.78\n",
      "100\n",
      "<class 'int'>\n"
     ]
    }
   ],
   "source": [
    "print(a)\n",
    "\n",
    "#convert \"float\" DT  into \"int\" DT ->int()\n",
    "b = int(a)\n",
    "print(b)\n",
    "print(type(b))"
   ]
  },
  {
   "cell_type": "code",
   "execution_count": 5,
   "id": "0fc43d69",
   "metadata": {},
   "outputs": [
    {
     "name": "stdout",
     "output_type": "stream",
     "text": [
      "345\n",
      "<class 'str'>\n",
      "345\n",
      "<class 'int'>\n",
      "345.0\n",
      "<class 'float'>\n"
     ]
    }
   ],
   "source": [
    "a = \"345\" #string\n",
    "print(a)\n",
    "print(type(a))\n",
    "\n",
    "#convert string DT into int DT-> int()\n",
    "b = int(a)\n",
    "print(b)\n",
    "print(type(b))\n",
    "\n",
    "#convert string DT into int DT-> float()\n",
    "c = float(a)\n",
    "print(c)\n",
    "print(type(c))"
   ]
  },
  {
   "cell_type": "code",
   "execution_count": 7,
   "id": "e3ca0563",
   "metadata": {},
   "outputs": [
    {
     "name": "stdout",
     "output_type": "stream",
     "text": [
      "34\n",
      "<class 'int'>\n",
      "34\n",
      "<class 'str'>\n"
     ]
    }
   ],
   "source": [
    "x = 34\n",
    "print(x)\n",
    "print(type(x))\n",
    "\n",
    "#convert int DT into string DT-> str()\n",
    "y = str(x)\n",
    "print(y)\n",
    "print(type(y))"
   ]
  },
  {
   "cell_type": "code",
   "execution_count": 10,
   "id": "f8d752f5",
   "metadata": {},
   "outputs": [
    {
     "name": "stdout",
     "output_type": "stream",
     "text": [
      "My name: laxmi\n",
      "My age: 34\n"
     ]
    }
   ],
   "source": [
    "name = \"laxmi\"\n",
    "age = 34\n",
    "\n",
    "print(\"My name:\",name)\n",
    "print(\"My age:\",age)"
   ]
  },
  {
   "cell_type": "code",
   "execution_count": 13,
   "id": "c014b99b",
   "metadata": {},
   "outputs": [
    {
     "name": "stdout",
     "output_type": "stream",
     "text": [
      "My name is laxmi and my age is 34\n"
     ]
    }
   ],
   "source": [
    "#print \"My name is laxmi and my age is 34\"\n",
    "\n",
    "print(\"My name is\",name,\"and my age is\",age)"
   ]
  },
  {
   "cell_type": "markdown",
   "id": "3ac7dbac",
   "metadata": {},
   "source": [
    "# f-string"
   ]
  },
  {
   "cell_type": "code",
   "execution_count": 16,
   "id": "31a762fe",
   "metadata": {},
   "outputs": [
    {
     "name": "stdout",
     "output_type": "stream",
     "text": [
      "My name is laxmi and my age is 34\n"
     ]
    }
   ],
   "source": [
    "print(f\"My name is {name} and my age is {age}\")"
   ]
  },
  {
   "cell_type": "markdown",
   "id": "2c605ba8",
   "metadata": {},
   "source": [
    "<h3>3.Boolean DT</h3>"
   ]
  },
  {
   "cell_type": "markdown",
   "id": "9de905ff",
   "metadata": {},
   "source": [
    "- True(1),False(0)"
   ]
  },
  {
   "cell_type": "code",
   "execution_count": 19,
   "id": "cc454500",
   "metadata": {},
   "outputs": [
    {
     "name": "stdout",
     "output_type": "stream",
     "text": [
      "True\n",
      "<class 'bool'>\n"
     ]
    }
   ],
   "source": [
    "x = True\n",
    "print(x)\n",
    "print(type(x))"
   ]
  },
  {
   "cell_type": "code",
   "execution_count": 26,
   "id": "b790dd92",
   "metadata": {},
   "outputs": [
    {
     "name": "stdout",
     "output_type": "stream",
     "text": [
      "False\n"
     ]
    }
   ],
   "source": [
    "a = 0\n",
    "print(bool(a))"
   ]
  },
  {
   "cell_type": "code",
   "execution_count": 22,
   "id": "619d383c",
   "metadata": {},
   "outputs": [
    {
     "name": "stdout",
     "output_type": "stream",
     "text": [
      "<class 'int'>\n",
      "True\n",
      "<class 'bool'>\n"
     ]
    }
   ],
   "source": [
    "x = 90\n",
    "print(type(x))\n",
    "\n",
    "#convert into int DT to Boolean DT -> bool()\n",
    "y = bool(x)\n",
    "print(y)\n",
    "print(type(y))"
   ]
  },
  {
   "cell_type": "code",
   "execution_count": 23,
   "id": "fa111b0f",
   "metadata": {},
   "outputs": [
    {
     "name": "stdout",
     "output_type": "stream",
     "text": [
      "<class 'str'>\n",
      "True\n",
      "<class 'bool'>\n"
     ]
    }
   ],
   "source": [
    "name = \"sai\"  #string\n",
    "print(type(name))\n",
    "\n",
    "#convert into str DT to Boolean DT -> bool()\n",
    "name1 = bool(name)  #True\n",
    "print(name1)\n",
    "print(type(name1))"
   ]
  },
  {
   "cell_type": "markdown",
   "id": "9e3cc3ef",
   "metadata": {},
   "source": [
    "<h3>4. None DataType</h3>"
   ]
  },
  {
   "cell_type": "code",
   "execution_count": 28,
   "id": "259026b5",
   "metadata": {},
   "outputs": [
    {
     "name": "stdout",
     "output_type": "stream",
     "text": [
      "None\n",
      "<class 'NoneType'>\n",
      "False\n"
     ]
    }
   ],
   "source": [
    "b = None\n",
    "print(b)\n",
    "print(type(b))\n",
    "\n",
    "#convert None DT to boolean DT-> bool()\n",
    "c = bool(b)\n",
    "print(c)"
   ]
  },
  {
   "cell_type": "markdown",
   "id": "707ce5f3",
   "metadata": {},
   "source": [
    "<h3>5. Sequence DataType</h3>"
   ]
  },
  {
   "cell_type": "markdown",
   "id": "4ebba266",
   "metadata": {},
   "source": [
    "- Sequence DT is used to store multiple values of different DT."
   ]
  },
  {
   "cell_type": "code",
   "execution_count": 32,
   "id": "22eed84f",
   "metadata": {
    "scrolled": true
   },
   "outputs": [
    {
     "name": "stdout",
     "output_type": "stream",
     "text": [
      "['sai', 34, 'sai', (5+8j), 'laxmi', 34, (5+8j), ['hari', 'kiran']]\n",
      "<class 'list'>\n"
     ]
    }
   ],
   "source": [
    "#list DT-> [val1,val2,val3,val4,------]\n",
    "#ordered DT\n",
    "#supports duplicates\n",
    "\n",
    "\n",
    "l = [\"sai\",34,\"sai\",5+8j,\"laxmi\",34,5+8j,[\"hari\",\"kiran\"]]\n",
    "print(l)\n",
    "print(type(l))"
   ]
  },
  {
   "cell_type": "code",
   "execution_count": 35,
   "id": "0a70a2ee",
   "metadata": {},
   "outputs": [
    {
     "name": "stdout",
     "output_type": "stream",
     "text": [
      "('sai', 34, 'sai', (5+8j), 'laxmi', 34, (5+8j), ['hari', 'kiran'])\n",
      "<class 'tuple'>\n"
     ]
    }
   ],
   "source": [
    "#convert list DT into tuple DT -> tuple()\n",
    "\n",
    "a = tuple(l)\n",
    "print(a)\n",
    "print(type(a))"
   ]
  },
  {
   "cell_type": "code",
   "execution_count": 33,
   "id": "fbbc2fcd",
   "metadata": {},
   "outputs": [
    {
     "name": "stdout",
     "output_type": "stream",
     "text": [
      "(90, 'dilip', 'laxmi', 90, 'dilip', True, 98.67)\n",
      "<class 'tuple'>\n"
     ]
    }
   ],
   "source": [
    "#tuple DT-> (val1,val2,val3,val4,------) or val1,val2,val3,val4,------\n",
    "#ordered DT\n",
    "#supports duplicates\n",
    "\n",
    "t = (90,\"dilip\",\"laxmi\",90,\"dilip\",True,98.67)\n",
    "print(t)\n",
    "print(type(t))"
   ]
  },
  {
   "cell_type": "code",
   "execution_count": 36,
   "id": "7795b4a8",
   "metadata": {},
   "outputs": [
    {
     "name": "stdout",
     "output_type": "stream",
     "text": [
      "[90, 'dilip', 'laxmi', 90, 'dilip', True, 98.67]\n",
      "<class 'list'>\n"
     ]
    }
   ],
   "source": [
    "#convert tuple DT into list DT-> list()\n",
    "\n",
    "b = list(t)\n",
    "print(b)\n",
    "print(type(b))"
   ]
  },
  {
   "cell_type": "code",
   "execution_count": 34,
   "id": "b2461918",
   "metadata": {},
   "outputs": [
    {
     "name": "stdout",
     "output_type": "stream",
     "text": [
      "(90, 'dilip', 'laxmi', 90, 'dilip', True, 98.67)\n",
      "<class 'tuple'>\n"
     ]
    }
   ],
   "source": [
    "t1 = 90,\"dilip\",\"laxmi\",90,\"dilip\",True,98.67\n",
    "print(t1)\n",
    "print(type(t1))"
   ]
  },
  {
   "cell_type": "code",
   "execution_count": 37,
   "id": "93ef417e",
   "metadata": {},
   "outputs": [
    {
     "name": "stdout",
     "output_type": "stream",
     "text": [
      "{True, 34.67, 'kiran', 56, 'laxmi', 'sai', 78}\n",
      "<class 'set'>\n"
     ]
    }
   ],
   "source": [
    "#set DT -> {val1,val2,val3,----}\n",
    "#unordered DT\n",
    "#won't support duplicates\n",
    "\n",
    "x = {\"sai\",\"laxmi\",78,\"sai\",34.67,True,78,\"kiran\",56}\n",
    "print(x)\n",
    "print(type(x))"
   ]
  },
  {
   "cell_type": "code",
   "execution_count": 38,
   "id": "fcf35106",
   "metadata": {},
   "outputs": [
    {
     "name": "stdout",
     "output_type": "stream",
     "text": [
      "(45, 78, 'dilip', 89, 45, 'dilip')\n",
      "{89, 'dilip', 45, 78}\n"
     ]
    }
   ],
   "source": [
    "#convert tuple DT into set DT-> set()\n",
    "\n",
    "t = (45,78,\"dilip\",89,45,\"dilip\")\n",
    "print(t)\n",
    "\n",
    "t1 = set(t)\n",
    "print(t1)"
   ]
  },
  {
   "cell_type": "code",
   "execution_count": 40,
   "id": "dea44bb1",
   "metadata": {},
   "outputs": [
    {
     "name": "stdout",
     "output_type": "stream",
     "text": [
      "{'name': 'sai', 'age': 34, 'course': 'python'}\n",
      "<class 'dict'>\n"
     ]
    }
   ],
   "source": [
    "#dictionary DT->{key1:valu1,key2:value2,-------}\n",
    "#multiple items(key:value pair)\n",
    "#mapping function\n",
    "#ordered DT\n",
    "\n",
    "d = {\"name\":\"sai\",\"age\":34,\"course\":\"python\"}\n",
    "print(d)\n",
    "print(type(d))"
   ]
  },
  {
   "cell_type": "code",
   "execution_count": null,
   "id": "1cdb6838",
   "metadata": {},
   "outputs": [],
   "source": []
  }
 ],
 "metadata": {
  "kernelspec": {
   "display_name": "Python 3 (ipykernel)",
   "language": "python",
   "name": "python3"
  },
  "language_info": {
   "codemirror_mode": {
    "name": "ipython",
    "version": 3
   },
   "file_extension": ".py",
   "mimetype": "text/x-python",
   "name": "python",
   "nbconvert_exporter": "python",
   "pygments_lexer": "ipython3",
   "version": "3.10.4"
  }
 },
 "nbformat": 4,
 "nbformat_minor": 5
}
